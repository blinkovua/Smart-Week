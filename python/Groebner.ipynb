{
 "cells": [
  {
   "cell_type": "code",
   "execution_count": 1,
   "metadata": {},
   "outputs": [],
   "source": [
    "from IPython.display import display\n",
    "\n",
    "import sympy\n",
    "\n",
    "from gb import *"
   ]
  },
  {
   "cell_type": "code",
   "execution_count": 2,
   "metadata": {},
   "outputs": [],
   "source": [
    "x, y, z = sympy.symbols('x, y, z')"
   ]
  },
  {
   "cell_type": "markdown",
   "metadata": {},
   "source": [
    "# Пример 1"
   ]
  },
  {
   "cell_type": "code",
   "execution_count": 3,
   "metadata": {},
   "outputs": [
    {
     "data": {
      "text/latex": [
       "$\\displaystyle 3 x^{2} - 4 x + 1$"
      ],
      "text/plain": [
       "3*x**2 - 4*x + 1"
      ]
     },
     "execution_count": 3,
     "metadata": {},
     "output_type": "execute_result"
    }
   ],
   "source": [
    "eq = 3*x**2 - 4*x + 1\n",
    "eq"
   ]
  },
  {
   "cell_type": "code",
   "execution_count": 4,
   "metadata": {},
   "outputs": [
    {
     "data": {
      "text/latex": [
       "$\\displaystyle \\frac{1}{3}$"
      ],
      "text/plain": [
       "1/3"
      ]
     },
     "metadata": {},
     "output_type": "display_data"
    },
    {
     "data": {
      "text/latex": [
       "$\\displaystyle 1$"
      ],
      "text/plain": [
       "1"
      ]
     },
     "metadata": {},
     "output_type": "display_data"
    },
    {
     "data": {
      "text/plain": [
       "[1/3, 1]"
      ]
     },
     "execution_count": 4,
     "metadata": {},
     "output_type": "execute_result"
    }
   ],
   "source": [
    "s = sympy.solve(eq, x)\n",
    "display(s[0])\n",
    "display(s[1])\n",
    "s"
   ]
  },
  {
   "cell_type": "code",
   "execution_count": 5,
   "metadata": {},
   "outputs": [
    {
     "data": {
      "text/latex": [
       "$\\displaystyle 3 x^{2} + 2 x + 1$"
      ],
      "text/plain": [
       "3*x**2 + 2*x + 1"
      ]
     },
     "execution_count": 5,
     "metadata": {},
     "output_type": "execute_result"
    }
   ],
   "source": [
    "eq = 3*x**2 + 2*x + 1\n",
    "eq"
   ]
  },
  {
   "cell_type": "code",
   "execution_count": 6,
   "metadata": {},
   "outputs": [
    {
     "data": {
      "text/latex": [
       "$\\displaystyle - \\frac{1}{3} - \\frac{\\sqrt{2} i}{3}$"
      ],
      "text/plain": [
       "-1/3 - sqrt(2)*I/3"
      ]
     },
     "metadata": {},
     "output_type": "display_data"
    },
    {
     "data": {
      "text/latex": [
       "$\\displaystyle - \\frac{1}{3} + \\frac{\\sqrt{2} i}{3}$"
      ],
      "text/plain": [
       "-1/3 + sqrt(2)*I/3"
      ]
     },
     "metadata": {},
     "output_type": "display_data"
    },
    {
     "data": {
      "text/plain": [
       "[-1/3 - sqrt(2)*I/3, -1/3 + sqrt(2)*I/3]"
      ]
     },
     "execution_count": 6,
     "metadata": {},
     "output_type": "execute_result"
    }
   ],
   "source": [
    "s = sympy.solve(eq, x)\n",
    "display(s[0])\n",
    "display(s[1])\n",
    "s"
   ]
  },
  {
   "cell_type": "code",
   "execution_count": 7,
   "metadata": {},
   "outputs": [
    {
     "data": {
      "text/latex": [
       "$\\displaystyle x^{2} + 2 x + 1$"
      ],
      "text/plain": [
       "x**2 + 2*x + 1"
      ]
     },
     "execution_count": 7,
     "metadata": {},
     "output_type": "execute_result"
    }
   ],
   "source": [
    "eq = x**2 + 2*x + 1\n",
    "eq"
   ]
  },
  {
   "cell_type": "code",
   "execution_count": 8,
   "metadata": {},
   "outputs": [
    {
     "data": {
      "text/latex": [
       "$\\displaystyle -1$"
      ],
      "text/plain": [
       "-1"
      ]
     },
     "metadata": {},
     "output_type": "display_data"
    },
    {
     "data": {
      "text/plain": [
       "[-1]"
      ]
     },
     "execution_count": 8,
     "metadata": {},
     "output_type": "execute_result"
    }
   ],
   "source": [
    "s = sympy.solve(eq, x)\n",
    "display(s[0])\n",
    "s"
   ]
  },
  {
   "cell_type": "markdown",
   "metadata": {},
   "source": [
    "# Пример 2"
   ]
  },
  {
   "cell_type": "code",
   "execution_count": 9,
   "metadata": {},
   "outputs": [],
   "source": [
    "eq1 = x**2 + x - 2\n",
    "eq2 = x**2 - 4*x + 3"
   ]
  },
  {
   "cell_type": "code",
   "execution_count": 10,
   "metadata": {},
   "outputs": [
    {
     "data": {
      "text/latex": [
       "$\\displaystyle 5 x - 5$"
      ],
      "text/plain": [
       "5*x - 5"
      ]
     },
     "execution_count": 10,
     "metadata": {},
     "output_type": "execute_result"
    }
   ],
   "source": [
    "eq1 - eq2"
   ]
  },
  {
   "cell_type": "code",
   "execution_count": 11,
   "metadata": {},
   "outputs": [
    {
     "data": {
      "text/latex": [
       "$\\displaystyle x - 1$"
      ],
      "text/plain": [
       "x - 1"
      ]
     },
     "execution_count": 11,
     "metadata": {},
     "output_type": "execute_result"
    }
   ],
   "source": [
    "eq1 = (eq1 - eq2)/5\n",
    "eq1"
   ]
  },
  {
   "cell_type": "code",
   "execution_count": 12,
   "metadata": {},
   "outputs": [
    {
     "data": {
      "text/latex": [
       "$\\displaystyle 3 - 3 x$"
      ],
      "text/plain": [
       "3 - 3*x"
      ]
     },
     "execution_count": 12,
     "metadata": {},
     "output_type": "execute_result"
    }
   ],
   "source": [
    "(eq2 - x*eq1).expand()"
   ]
  },
  {
   "cell_type": "code",
   "execution_count": 13,
   "metadata": {},
   "outputs": [],
   "source": [
    "eq2 = ((eq2 - x*eq1)/3).expand()"
   ]
  },
  {
   "cell_type": "code",
   "execution_count": 14,
   "metadata": {},
   "outputs": [
    {
     "data": {
      "text/latex": [
       "$\\displaystyle 0$"
      ],
      "text/plain": [
       "0"
      ]
     },
     "execution_count": 14,
     "metadata": {},
     "output_type": "execute_result"
    }
   ],
   "source": [
    "eq2 + eq1"
   ]
  },
  {
   "cell_type": "code",
   "execution_count": 15,
   "metadata": {},
   "outputs": [],
   "source": [
    "eq2 = eq2 + eq1"
   ]
  },
  {
   "cell_type": "code",
   "execution_count": 16,
   "metadata": {},
   "outputs": [
    {
     "data": {
      "text/plain": [
       "(x - 1, 0)"
      ]
     },
     "execution_count": 16,
     "metadata": {},
     "output_type": "execute_result"
    }
   ],
   "source": [
    "eq1, eq2"
   ]
  },
  {
   "cell_type": "markdown",
   "metadata": {},
   "source": [
    "# Пример 3"
   ]
  },
  {
   "cell_type": "code",
   "execution_count": 17,
   "metadata": {},
   "outputs": [],
   "source": [
    "eq1 = x**2 + x - 2\n",
    "eq2 = x**2 - 4*x - 3"
   ]
  },
  {
   "cell_type": "code",
   "execution_count": 18,
   "metadata": {},
   "outputs": [
    {
     "data": {
      "text/latex": [
       "$\\displaystyle 5 x + 1$"
      ],
      "text/plain": [
       "5*x + 1"
      ]
     },
     "execution_count": 18,
     "metadata": {},
     "output_type": "execute_result"
    }
   ],
   "source": [
    "eq1 - eq2"
   ]
  },
  {
   "cell_type": "code",
   "execution_count": 19,
   "metadata": {},
   "outputs": [
    {
     "data": {
      "text/latex": [
       "$\\displaystyle 5 x + 1$"
      ],
      "text/plain": [
       "5*x + 1"
      ]
     },
     "execution_count": 19,
     "metadata": {},
     "output_type": "execute_result"
    }
   ],
   "source": [
    "eq1 = eq1 - eq2\n",
    "eq1"
   ]
  },
  {
   "cell_type": "code",
   "execution_count": 20,
   "metadata": {},
   "outputs": [
    {
     "data": {
      "text/latex": [
       "$\\displaystyle - 21 x - 15$"
      ],
      "text/plain": [
       "-21*x - 15"
      ]
     },
     "execution_count": 20,
     "metadata": {},
     "output_type": "execute_result"
    }
   ],
   "source": [
    "(5*eq2 - x*eq1).expand()"
   ]
  },
  {
   "cell_type": "code",
   "execution_count": 21,
   "metadata": {},
   "outputs": [
    {
     "data": {
      "text/latex": [
       "$\\displaystyle - 21 x - 15$"
      ],
      "text/plain": [
       "-21*x - 15"
      ]
     },
     "execution_count": 21,
     "metadata": {},
     "output_type": "execute_result"
    }
   ],
   "source": [
    "eq2 = (5*eq2 - x*eq1).expand()\n",
    "eq2"
   ]
  },
  {
   "cell_type": "code",
   "execution_count": 22,
   "metadata": {},
   "outputs": [
    {
     "data": {
      "text/latex": [
       "$\\displaystyle -54$"
      ],
      "text/plain": [
       "-54"
      ]
     },
     "execution_count": 22,
     "metadata": {},
     "output_type": "execute_result"
    }
   ],
   "source": [
    "5*eq2 + 21*eq1"
   ]
  },
  {
   "cell_type": "markdown",
   "metadata": {},
   "source": [
    "# Пример 4"
   ]
  },
  {
   "cell_type": "code",
   "execution_count": 23,
   "metadata": {},
   "outputs": [],
   "source": [
    "eq1 = 3*x + 5*y - 1\n",
    "eq2 = x + 3*z  + 3"
   ]
  },
  {
   "cell_type": "code",
   "execution_count": 24,
   "metadata": {},
   "outputs": [
    {
     "data": {
      "text/latex": [
       "$\\displaystyle 5 y - 9 z - 10$"
      ],
      "text/plain": [
       "5*y - 9*z - 10"
      ]
     },
     "execution_count": 24,
     "metadata": {},
     "output_type": "execute_result"
    }
   ],
   "source": [
    "(eq1 - 3*eq2).expand()"
   ]
  },
  {
   "cell_type": "code",
   "execution_count": 25,
   "metadata": {},
   "outputs": [
    {
     "data": {
      "text/latex": [
       "$\\displaystyle 5 y - 9 z - 10$"
      ],
      "text/plain": [
       "5*y - 9*z - 10"
      ]
     },
     "execution_count": 25,
     "metadata": {},
     "output_type": "execute_result"
    }
   ],
   "source": [
    "eq1 = (eq1 - 3*eq2).expand()\n",
    "eq1"
   ]
  },
  {
   "cell_type": "code",
   "execution_count": 26,
   "metadata": {},
   "outputs": [
    {
     "data": {
      "text/plain": [
       "(5*y - 9*z - 10, x + 3*z + 3)"
      ]
     },
     "execution_count": 26,
     "metadata": {},
     "output_type": "execute_result"
    }
   ],
   "source": [
    "eq1, eq2"
   ]
  },
  {
   "cell_type": "markdown",
   "metadata": {},
   "source": [
    "# Пример 5"
   ]
  },
  {
   "cell_type": "code",
   "execution_count": 27,
   "metadata": {},
   "outputs": [],
   "source": [
    "variables = sympy.symbols('x, y, z')\n",
    "Monom.variables = len(variables) + 1\n",
    "# POTlex TOPlex POTdeglex TOPdeglex\n",
    "Monom.cmp = Monom.POTlex\n",
    "Monom.zero = Monom(0 for v in range(Monom.variables))\n",
    "for i in range(len(variables)):\n",
    "    p = Poly()\n",
    "    p.append([Monom(0 if l-1 != i else 1 for l in range(Monom.variables)), 1])\n",
    "    globals()[str(variables[i])] = p"
   ]
  },
  {
   "cell_type": "code",
   "execution_count": 28,
   "metadata": {},
   "outputs": [],
   "source": [
    "def tosympy(p):\n",
    "    r = 0\n",
    "    for m, c in p:\n",
    "        for i in range(1, len(m)):\n",
    "            c *= variables[i-1]**m[i]\n",
    "        r += c\n",
    "    return r"
   ]
  },
  {
   "cell_type": "code",
   "execution_count": 29,
   "metadata": {},
   "outputs": [
    {
     "data": {
      "text/plain": [
       "[[(0, 1, 0, 0), 1]]"
      ]
     },
     "execution_count": 29,
     "metadata": {},
     "output_type": "execute_result"
    }
   ],
   "source": [
    "x"
   ]
  },
  {
   "cell_type": "code",
   "execution_count": 30,
   "metadata": {},
   "outputs": [
    {
     "data": {
      "text/latex": [
       "$\\displaystyle x$"
      ],
      "text/plain": [
       "x"
      ]
     },
     "execution_count": 30,
     "metadata": {},
     "output_type": "execute_result"
    }
   ],
   "source": [
    "tosympy(x)"
   ]
  },
  {
   "cell_type": "code",
   "execution_count": 31,
   "metadata": {},
   "outputs": [
    {
     "data": {
      "text/plain": [
       "[[(0, 6, 0, 0), 1],\n",
       " [(0, 4, 1, 0), 3],\n",
       " [(0, 4, 0, 0), 3],\n",
       " [(0, 2, 2, 0), 3],\n",
       " [(0, 2, 1, 0), 6],\n",
       " [(0, 2, 0, 0), 3],\n",
       " [(0, 0, 3, 0), 1],\n",
       " [(0, 0, 2, 0), 3],\n",
       " [(0, 0, 1, 0), 3],\n",
       " [(0, 0, 0, 0), 1]]"
      ]
     },
     "execution_count": 31,
     "metadata": {},
     "output_type": "execute_result"
    }
   ],
   "source": [
    "(x**2 + y + 1)**3"
   ]
  },
  {
   "cell_type": "code",
   "execution_count": 32,
   "metadata": {},
   "outputs": [
    {
     "data": {
      "text/latex": [
       "$\\displaystyle x^{6} + 3 x^{4} y + 3 x^{4} + 3 x^{2} y^{2} + 6 x^{2} y + 3 x^{2} + y^{3} + 3 y^{2} + 3 y + 1$"
      ],
      "text/plain": [
       "x**6 + 3*x**4*y + 3*x**4 + 3*x**2*y**2 + 6*x**2*y + 3*x**2 + y**3 + 3*y**2 + 3*y + 1"
      ]
     },
     "execution_count": 32,
     "metadata": {},
     "output_type": "execute_result"
    }
   ],
   "source": [
    "tosympy((x**2 + y + 1)**3)"
   ]
  },
  {
   "cell_type": "code",
   "execution_count": 78,
   "metadata": {},
   "outputs": [],
   "source": [
    "variables = sympy.symbols('x, y, z')\n",
    "Monom.variables = len(variables) + 1\n",
    "# POTlex TOPlex POTdeglex TOPdeglex\n",
    "Monom.cmp = Monom.POTdeglex\n",
    "Monom.zero = Monom(0 for v in range(Monom.variables))\n",
    "for i in range(len(variables)):\n",
    "    p = Poly()\n",
    "    p.append([Monom(0 if l-1 != i else 1 for l in range(Monom.variables)), 1])\n",
    "    globals()[str(variables[i])] = p"
   ]
  },
  {
   "cell_type": "code",
   "execution_count": 70,
   "metadata": {},
   "outputs": [
    {
     "data": {
      "text/plain": [
       "[[(0, 6, 0, 0), 1],\n",
       " [(0, 4, 1, 0), 3],\n",
       " [(0, 4, 0, 0), 3],\n",
       " [(0, 2, 2, 0), 3],\n",
       " [(0, 2, 1, 0), 6],\n",
       " [(0, 0, 3, 0), 1],\n",
       " [(0, 2, 0, 0), 3],\n",
       " [(0, 0, 2, 0), 3],\n",
       " [(0, 0, 1, 0), 3],\n",
       " [(0, 0, 0, 0), 1]]"
      ]
     },
     "execution_count": 70,
     "metadata": {},
     "output_type": "execute_result"
    }
   ],
   "source": [
    "(x**2 + y + 1)**3"
   ]
  },
  {
   "cell_type": "code",
   "execution_count": 71,
   "metadata": {},
   "outputs": [
    {
     "data": {
      "text/latex": [
       "$\\displaystyle x^{6} + 3 x^{4} y + 3 x^{4} + 3 x^{2} y^{2} + 6 x^{2} y + 3 x^{2} + y^{3} + 3 y^{2} + 3 y + 1$"
      ],
      "text/plain": [
       "x**6 + 3*x**4*y + 3*x**4 + 3*x**2*y**2 + 6*x**2*y + 3*x**2 + y**3 + 3*y**2 + 3*y + 1"
      ]
     },
     "execution_count": 71,
     "metadata": {},
     "output_type": "execute_result"
    }
   ],
   "source": [
    "tosympy((x**2 + y + 1)**3)"
   ]
  },
  {
   "cell_type": "markdown",
   "metadata": {},
   "source": [
    "# Пример 7"
   ]
  },
  {
   "cell_type": "code",
   "execution_count": 72,
   "metadata": {},
   "outputs": [
    {
     "name": "stdout",
     "output_type": "stream",
     "text": [
      "[[(0, 0, 0, 3), 1], [(0, 2, 0, 0), 1], [(0, 0, 1, 0), 1], [(0, 0, 0, 0), -1]]\n",
      "[[(0, 0, 3, 0), 1], [(0, 0, 0, 2), 1], [(0, 1, 0, 0), 1], [(0, 0, 0, 0), -1]]\n",
      "[[(0, 3, 0, 0), 1], [(0, 0, 2, 0), 1], [(0, 0, 0, 1), 1], [(0, 0, 0, 0), -1]]\n"
     ]
    },
    {
     "data": {
      "text/latex": [
       "$\\displaystyle x^{2} + y + z^{3} - 1$"
      ],
      "text/plain": [
       "x**2 + y + z**3 - 1"
      ]
     },
     "metadata": {},
     "output_type": "display_data"
    },
    {
     "data": {
      "text/latex": [
       "$\\displaystyle x + y^{3} + z^{2} - 1$"
      ],
      "text/plain": [
       "x + y**3 + z**2 - 1"
      ]
     },
     "metadata": {},
     "output_type": "display_data"
    },
    {
     "data": {
      "text/latex": [
       "$\\displaystyle x^{3} + y^{2} + z - 1$"
      ],
      "text/plain": [
       "x**3 + y**2 + z - 1"
      ]
     },
     "metadata": {},
     "output_type": "display_data"
    },
    {
     "name": "stdout",
     "output_type": "stream",
     "text": [
      "time 0.00\n"
     ]
    }
   ],
   "source": [
    "G = GB()\n",
    "G.algorithm1([x**3 + y**2 + z - 1, \n",
    "              y**3 + z**2 + x - 1,  \n",
    "              z**3 + x**2 + y - 1])\n",
    "for g in G:\n",
    "    print(g)\n",
    "for g in G:\n",
    "    display(tosympy(g))\n",
    "print(\"time %.2f\" % G.time)"
   ]
  },
  {
   "cell_type": "code",
   "execution_count": 73,
   "metadata": {},
   "outputs": [],
   "source": [
    "variables = sympy.symbols('x, y, z')\n",
    "Monom.variables = len(variables) + 1\n",
    "# POTlex TOPlex POTdeglex TOPdeglex\n",
    "Monom.cmp = Monom.POTlex\n",
    "Monom.zero = Monom(0 for v in range(Monom.variables))\n",
    "for i in range(len(variables)):\n",
    "    p = Poly()\n",
    "    p.append([Monom(0 if l-1 != i else 1 for l in range(Monom.variables)), 1])\n",
    "    globals()[str(variables[i])] = p"
   ]
  },
  {
   "cell_type": "code",
   "execution_count": 74,
   "metadata": {},
   "outputs": [
    {
     "data": {
      "text/latex": [
       "$\\displaystyle - z^{26} + 9 z^{23} - 29 z^{20} + 6 z^{18} + 11 z^{17} + 14 z^{16} - 27 z^{15} + 110 z^{14} - 37 z^{13} - 4 z^{12} - 163 z^{11} - 36 z^{10} + 173 z^{9} - 28 z^{8} + 146 z^{7} - 208 z^{6} + 94 z^{5} - 89 z^{4} + 91 z^{3} - 37 z^{2} + 5 z$"
      ],
      "text/plain": [
       "-z**26 + 9*z**23 - 29*z**20 + 6*z**18 + 11*z**17 + 14*z**16 - 27*z**15 + 110*z**14 - 37*z**13 - 4*z**12 - 163*z**11 - 36*z**10 + 173*z**9 - 28*z**8 + 146*z**7 - 208*z**6 + 94*z**5 - 89*z**4 + 91*z**3 - 37*z**2 + 5*z"
      ]
     },
     "metadata": {},
     "output_type": "display_data"
    },
    {
     "data": {
      "text/latex": [
       "$\\displaystyle 446889850223965962 y z - 148587329060893551 z^{25} + 69227265528134683 z^{24} + 177107106318621731 z^{23} + 1570133513059267176 z^{22} - 345032253689914174 z^{21} - 1276918514977770000 z^{20} - 6053261281790149727 z^{19} - 96270871433086167 z^{18} + 3612806288511809063 z^{17} + 5289128981708308790 z^{16} + 5284058768166744810 z^{15} - 2473513762431101345 z^{14} + 18022223916861656497 z^{13} - 9199826957057177674 z^{12} - 12618455027140299088 z^{11} - 37226953872590255753 z^{10} - 8509533075336439845 z^{9} + 40822372743626374672 z^{8} + 10520743521039441676 z^{7} + 26646657695975125058 z^{6} - 36577768772861609194 z^{5} + 5911677713903725150 z^{4} - 14273870178747166817 z^{3} + 14279606551148517698 z^{2} - 3405752168731863669 z$"
      ],
      "text/plain": [
       "446889850223965962*y*z - 148587329060893551*z**25 + 69227265528134683*z**24 + 177107106318621731*z**23 + 1570133513059267176*z**22 - 345032253689914174*z**21 - 1276918514977770000*z**20 - 6053261281790149727*z**19 - 96270871433086167*z**18 + 3612806288511809063*z**17 + 5289128981708308790*z**16 + 5284058768166744810*z**15 - 2473513762431101345*z**14 + 18022223916861656497*z**13 - 9199826957057177674*z**12 - 12618455027140299088*z**11 - 37226953872590255753*z**10 - 8509533075336439845*z**9 + 40822372743626374672*z**8 + 10520743521039441676*z**7 + 26646657695975125058*z**6 - 36577768772861609194*z**5 + 5911677713903725150*z**4 - 14273870178747166817*z**3 + 14279606551148517698*z**2 - 3405752168731863669*z"
      ]
     },
     "metadata": {},
     "output_type": "display_data"
    },
    {
     "data": {
      "text/latex": [
       "$\\displaystyle - 1117224625559914905 y^{2} + 1117224625559914905 y + 740170783170033482 z^{25} + 832039447141213425 z^{24} + 913318521735172045 z^{23} - 5645420330574542258 z^{22} - 6367560897449489945 z^{21} - 6994864265837410150 z^{20} + 13657424718920689613 z^{19} + 15516618092746595905 z^{18} + 12652648488458428073 z^{17} + 6056757587368442533 z^{16} - 3859322257299831373 z^{15} + 15184291218872848789 z^{14} - 64388879427519250770 z^{13} - 45346333848706495411 z^{12} - 45765959804567172387 z^{11} + 68786255456232305231 z^{10} + 105043734442116967892 z^{9} - 10635771547279159706 z^{8} + 7962447548144043531 z^{7} - 98872508093861238457 z^{6} + 39803009030994536151 z^{5} - 21735679028418091073 z^{4} + 40494611569180020693 z^{3} - 20413259389269085277 z^{2} + 2382231985700469444 z$"
      ],
      "text/plain": [
       "-1117224625559914905*y**2 + 1117224625559914905*y + 740170783170033482*z**25 + 832039447141213425*z**24 + 913318521735172045*z**23 - 5645420330574542258*z**22 - 6367560897449489945*z**21 - 6994864265837410150*z**20 + 13657424718920689613*z**19 + 15516618092746595905*z**18 + 12652648488458428073*z**17 + 6056757587368442533*z**16 - 3859322257299831373*z**15 + 15184291218872848789*z**14 - 64388879427519250770*z**13 - 45346333848706495411*z**12 - 45765959804567172387*z**11 + 68786255456232305231*z**10 + 105043734442116967892*z**9 - 10635771547279159706*z**8 + 7962447548144043531*z**7 - 98872508093861238457*z**6 + 39803009030994536151*z**5 - 21735679028418091073*z**4 + 40494611569180020693*z**3 - 20413259389269085277*z**2 + 2382231985700469444*z"
      ]
     },
     "metadata": {},
     "output_type": "display_data"
    },
    {
     "data": {
      "text/latex": [
       "$\\displaystyle 65719095621171465 x + 65719095621171465 y + 7467678205870943 z^{25} + 28598228905708245 z^{24} + 40958640195518500 z^{23} - 18118488190106417 z^{22} - 200987866455865790 z^{21} - 303350516280355300 z^{20} - 152406006738162748 z^{19} + 403122294199451260 z^{18} + 649226374687018607 z^{17} + 618150565337585002 z^{16} + 353034549878420633 z^{15} + 238802559571273606 z^{14} - 174827263897728825 z^{13} - 1972928184800696599 z^{12} - 2327820058781424873 z^{11} - 1345970642704934506 z^{10} + 2087861421527788238 z^{9} + 3117371817891097726 z^{8} + 1122397967344784274 z^{7} - 437890362723893518 z^{6} - 2002124159108924466 z^{5} - 42413702095534382 z^{4} - 84397489592758113 z^{3} + 702615426148730872 z^{2} - 240653686901690904 z - 65719095621171465$"
      ],
      "text/plain": [
       "65719095621171465*x + 65719095621171465*y + 7467678205870943*z**25 + 28598228905708245*z**24 + 40958640195518500*z**23 - 18118488190106417*z**22 - 200987866455865790*z**21 - 303350516280355300*z**20 - 152406006738162748*z**19 + 403122294199451260*z**18 + 649226374687018607*z**17 + 618150565337585002*z**16 + 353034549878420633*z**15 + 238802559571273606*z**14 - 174827263897728825*z**13 - 1972928184800696599*z**12 - 2327820058781424873*z**11 - 1345970642704934506*z**10 + 2087861421527788238*z**9 + 3117371817891097726*z**8 + 1122397967344784274*z**7 - 437890362723893518*z**6 - 2002124159108924466*z**5 - 42413702095534382*z**4 - 84397489592758113*z**3 + 702615426148730872*z**2 - 240653686901690904*z - 65719095621171465"
      ]
     },
     "metadata": {},
     "output_type": "display_data"
    },
    {
     "name": "stdout",
     "output_type": "stream",
     "text": [
      "time 8.34\n"
     ]
    }
   ],
   "source": [
    "G = GB()\n",
    "G.algorithm1([x**3 + y**2 + z - 1, \n",
    "              y**3 + z**2 + x - 1,  \n",
    "              z**3 + x**2 + y - 1])\n",
    "for g in G:\n",
    "    display(tosympy(g))\n",
    "print(\"time %.2f\" % G.time)"
   ]
  },
  {
   "cell_type": "code",
   "execution_count": 75,
   "metadata": {},
   "outputs": [
    {
     "data": {
      "text/latex": [
       "$\\displaystyle 6$"
      ],
      "text/plain": [
       "6"
      ]
     },
     "execution_count": 75,
     "metadata": {},
     "output_type": "execute_result"
    }
   ],
   "source": [
    "sympy.count_roots(tosympy(G[0]))"
   ]
  },
  {
   "cell_type": "code",
   "execution_count": 76,
   "metadata": {},
   "outputs": [
    {
     "data": {
      "text/plain": [
       "[((0, 0), 1),\n",
       " ((0, 1/3), 1),\n",
       " ((1/3, 1/2), 1),\n",
       " ((1/2, 2/3), 1),\n",
       " ((2/3, 1), 1),\n",
       " ((1, 1), 1)]"
      ]
     },
     "execution_count": 76,
     "metadata": {},
     "output_type": "execute_result"
    }
   ],
   "source": [
    "sympy.intervals(tosympy(G[0]))"
   ]
  },
  {
   "cell_type": "code",
   "execution_count": 77,
   "metadata": {},
   "outputs": [
    {
     "data": {
      "text/plain": [
       "[0,\n",
       " 0.329186259200067,\n",
       " 0.450908604847272,\n",
       " 0.543689012692076,\n",
       " 0.761009624180514,\n",
       " 1.00000000000000,\n",
       " -1.2150637681837 - 0.125105344727484*I,\n",
       " -1.2150637681837 + 0.125105344727484*I,\n",
       " -1.11914050697639 - 1.19515007499715*I,\n",
       " -1.11914050697639 + 1.19515007499715*I,\n",
       " -0.771844506346038 - 1.11514250803994*I,\n",
       " -0.771844506346038 + 1.11514250803994*I,\n",
       " -0.546555448761702 - 0.708477724569259*I,\n",
       " -0.546555448761702 + 0.708477724569259*I,\n",
       " -0.523675317838886 - 1.50485982067031*I,\n",
       " -0.523675317838886 + 1.50485982067031*I,\n",
       " -0.403622901752793 - 1.20743969324877*I,\n",
       " -0.403622901752793 + 1.20743969324877*I,\n",
       " -0.140607388953721 - 0.885365564830684*I,\n",
       " -0.140607388953721 + 0.885365564830684*I,\n",
       " 0.600768176350927 - 1.09234693908798*I,\n",
       " 0.600768176350927 + 1.09234693908798*I,\n",
       " 1.10435510057012 - 0.0303237974357035*I,\n",
       " 1.10435510057012 + 0.0303237974357035*I,\n",
       " 1.47298981143221 - 0.183367165976322*I,\n",
       " 1.47298981143221 + 0.183367165976322*I]"
      ]
     },
     "execution_count": 77,
     "metadata": {},
     "output_type": "execute_result"
    }
   ],
   "source": [
    "sympy.nroots(tosympy(G[0]))"
   ]
  },
  {
   "cell_type": "code",
   "execution_count": null,
   "metadata": {},
   "outputs": [],
   "source": []
  }
 ],
 "metadata": {
  "kernelspec": {
   "display_name": "Python 3",
   "language": "python",
   "name": "python3"
  },
  "language_info": {
   "codemirror_mode": {
    "name": "ipython",
    "version": 3
   },
   "file_extension": ".py",
   "mimetype": "text/x-python",
   "name": "python",
   "nbconvert_exporter": "python",
   "pygments_lexer": "ipython3",
   "version": "3.8.5"
  }
 },
 "nbformat": 4,
 "nbformat_minor": 4
}
